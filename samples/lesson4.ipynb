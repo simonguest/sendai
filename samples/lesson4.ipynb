{
 "cells": [
  {
   "cell_type": "markdown",
   "id": "4c2d9172",
   "metadata": {
    "i18n": {
     "hi-IN": [
      "## यह करके देखें: चर अपडेट करना\n",
      "<br>\n",
      "\n",
      "1. एक नए व्यक्ति को दर्शाने के लिए `name` और `favorite_food` के मान अपडेट करें।\n",
      "2. अपने साथी के साथ चर्चा करें: आपको क्या लगता है कि जब आप \"रन\" पर क्लिक करेंगे तो क्या होगा?\n",
      "3. प्रोग्राम चलाएं और आउटपुट देखें।"
     ],
     "ja-JP": [
      "## やってみよう: 変数の更新\n",
      "<br>\n",
      "\n",
      "1. `name` と `favorite_food` の値を新しい人物を反映するように更新してください。\n",
      "2. パートナーと話し合いましょう: 「実行」をクリックしたとき、何が起こると思いますか？\n",
      "3. プログラムを実行して、出力を観察してください。"
     ]
    }
   },
   "source": [
    "## Try This: Updating Variables\n",
    "<br>\n",
    "\n",
    "1. Update the values of `name` and `favorite_food` to reflect a new person.\n",
    "2. Discuss with your partner: What do you think will happen when you click \"Run\"?\n",
    "3. Run the program and observe the output."
   ]
  },
  {
   "cell_type": "code",
   "execution_count": null,
   "id": "108175cc",
   "metadata": {},
   "outputs": [],
   "source": [
    "name = \"{{NAME}}\"\n",
    "favorite_food = \"{{FOOD}}\"\n",
    "\n",
    "print(\"Hi, my name is \" + name)\n",
    "print(\"My favorite food is \" + favorite_food)"
   ]
  },
  {
   "cell_type": "markdown",
   "id": "3f57bf9c",
   "metadata": {
    "i18n": {
     "hi-IN": [
      "## अब यह करके देखें!\n",
      "\n",
      "<br>\n",
      "\n",
      "1. चर्चा करें: आपको क्या लगता है कि जब आप \"रन\" पर क्लिक करेंगे तो क्या प्रिंट होगा?\n",
      "2. \"रन\" पर क्लिक करें और आउटपुट देखें।\n",
      "3. num_pets से 1 घटाकर कोड को संशोधित करें। फिर नया मान प्रिंट करने के लिए \"रन\" पर क्लिक करें।\n",
      "\n",
      "<br>\n",
      "\n",
      "> संकेत: num_pets के मान को अपडेट करने के लिए आप अंकगणितीय संचालन (+, -, x, ÷) का उपयोग कैसे कर सकते हैं?\n",
      "\n",
      "<br>\n",
      "\n",
      "4. एक प्रिंट स्टेटमेंट जोड़ें जो कहता है \"{{NAME}} अपने [पालतू जानवरों की संख्या] पालतू जानवरों के बारे में बहुत खुश है!\"\n",
      "\n",
      "<br>\n",
      "\n",
      "> जब आप एक संख्या को एक स्ट्रिंग के साथ जोड़ने का प्रयास करते हैं तो क्या होता है? क्या आप इस त्रुटि को ठीक कर सकते हैं?"
     ],
     "ja-JP": [
      "## 次にこれをやってみよう！\n",
      "\n",
      "<br>\n",
      "\n",
      "1. 話し合いましょう: 「実行」をクリックしたとき、何が表示されると思いますか？\n",
      "2. 「実行」をクリックして、出力を観察してください。\n",
      "3. num_petsから1を引くようにコードを修正してください。その後、「実行」をクリックして新しい値を表示します。\n",
      "\n",
      "<br>\n",
      "\n",
      "> ヒント: num_petsの値を更新するために、どのように算術演算子（+、-、×、÷）を使用できますか？\n",
      "\n",
      "<br>\n",
      "\n",
      "4. 「{{NAME}}は自分の[ペットの数]匹のペットについてとても嬉しく思っています！」と表示するprint文を追加してください。\n",
      "\n",
      "<br>\n",
      "\n",
      "> 数値と文字列を組み合わせようとすると何が起こりますか？このエラーを修正できますか？"
     ]
    }
   },
   "source": [
    "## Now Try This!\n",
    "\n",
    "<br>\n",
    "\n",
    "1. Discuss: What do you think will be printed out when you click \"Run\"?\n",
    "2. Click \"Run\" and observe the output.\n",
    "3. Modify the code by subtracting 1 from num_pets. Then click \"Run\" to print out the new value.\n",
    "\n",
    "<br>\n",
    "\n",
    "> Hint: How can you use arithmetic operations (+, -, x, ÷) to update the value of num_pets?\n",
    "\n",
    "<br>\n",
    "\n",
    "4. Add a print statement that says “{{NAME}} is very happy about their [number of pets] pets!”.\n",
    "\n",
    "<br>\n",
    "\n",
    "> What happens when you try to combine a number with a string? Can you fix this error?"
   ]
  },
  {
   "cell_type": "code",
   "execution_count": null,
   "id": "9c61b3c3",
   "metadata": {},
   "outputs": [],
   "source": [
    "num_pets = 3\n",
    "\n",
    "#{{NAME}} adopted 2 more pets\n",
    "num_pets = num_pets + 2\n",
    "print(\"Updated number of pets: \" + str(num_pets))"
   ]
  }
 ],
 "metadata": {
  "globals": {
   "FOOD": {
    "default": "Pizza",
    "hi-IN": "Puri",
    "ja-JP": "Sukiyaki"
   },
   "NAME": {
    "default": "Rylee",
    "hi-IN": "Aditi",
    "ja-JP": "Daichi"
   }
  },
  "kernelspec": {
   "display_name": ".venv",
   "language": "python",
   "name": "python3"
  },
  "language_info": {
   "codemirror_mode": {
    "name": "ipython",
    "version": 3
   },
   "file_extension": ".py",
   "mimetype": "text/x-python",
   "name": "python",
   "nbconvert_exporter": "python",
   "pygments_lexer": "ipython3",
   "version": "3.13.1"
  },
  "title": "Lesson 4: Variables and Data Flow"
 },
 "nbformat": 4,
 "nbformat_minor": 5
}
