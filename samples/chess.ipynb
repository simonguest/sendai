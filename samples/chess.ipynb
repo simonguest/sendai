{
  "cells": [
    {
      "cell_type": "markdown",
      "metadata": {},
      "source": [
        "This notebook demonstrates how each chess piece moves using the `python-chess` library. We'll explore the movement patterns of all six types of chess pieces: pawn, rook, knight, bishop, queen, and king."
      ]
    },
    {
      "cell_type": "code",
      "execution_count": null,
      "metadata": {},
      "outputs": [],
      "source": [
        "import chess\n",
        "import chess.svg\n",
        "\n",
        "# Create a new chess board\n",
        "board = chess.Board()\n",
        "print(\"Starting position:\")\n",
        "board"
      ]
    },
    {
      "cell_type": "markdown",
      "metadata": {},
      "source": [
        "## Pawn Movement\n",
        "\n",
        "Pawns are the most numerous pieces on the board. They have unique movement rules:\n",
        "- Move forward one square (or two squares from starting position)\n",
        "- Capture diagonally forward\n",
        "- Cannot move backward"
      ]
    },
    {
      "cell_type": "code",
      "execution_count": null,
      "metadata": {},
      "outputs": [],
      "source": [
        "# Demonstrate pawn movement\n",
        "pawn_board = chess.Board()\n",
        "\n",
        "# Move a pawn forward two squares from starting position\n",
        "pawn_move1 = chess.Move.from_uci(\"e2e4\")\n",
        "pawn_board.push(pawn_move1)\n",
        "print(\"White pawn moves from e2 to e4 (two squares forward from starting position):\")\n",
        "print(pawn_board)\n",
        "print()\n",
        "\n",
        "# Black pawn moves one square\n",
        "pawn_move2 = chess.Move.from_uci(\"d7d6\")\n",
        "pawn_board.push(pawn_move2)\n",
        "print(\"Black pawn moves from d7 to d6 (one square forward):\")\n",
        "pawn_board"
      ]
    },
    {
      "cell_type": "code",
      "execution_count": null,
      "metadata": {},
      "outputs": [],
      "source": [
        "# Demonstrate pawn capture\n",
        "capture_board = chess.Board(\"rnbqkbnr/ppp1pppp/8/3p4/4P3/8/PPPP1PPP/RNBQKBNR w KQkq d6 0 2\")\n",
        "print(\"Position where white pawn can capture:\")\n",
        "print(capture_board)\n",
        "print()\n",
        "\n",
        "# Pawn captures diagonally\n",
        "capture_move = chess.Move.from_uci(\"e4d5\")\n",
        "capture_board.push(capture_move)\n",
        "print(\"White pawn captures black pawn diagonally (e4 takes d5):\")\n",
        "capture_board"
      ]
    },
    {
      "cell_type": "markdown",
      "metadata": {},
      "source": [
        "## Rook Movement\n",
        "\n",
        "Rooks move in straight lines:\n",
        "- Any number of squares horizontally or vertically\n",
        "- Cannot jump over other pieces\n",
        "- Can capture enemy pieces by moving to their square"
      ]
    },
    {
      "cell_type": "code",
      "execution_count": null,
      "metadata": {},
      "outputs": [],
      "source": [
        "# Demonstrate rook movement\n",
        "rook_board = chess.Board(\"8/8/8/8/3R4/8/8/8 w - - 0 1\")\n",
        "print(\"Rook on d4 - can move horizontally or vertically:\")\n",
        "print(rook_board)\n",
        "print()\n",
        "\n",
        "# Show possible rook moves\n",
        "rook_square = chess.D4\n",
        "legal_moves = [move for move in rook_board.legal_moves if move.from_square == rook_square]\n",
        "print(f\"Legal moves for rook on d4: {[move.uci() for move in legal_moves]}\")\n",
        "print()\n",
        "\n",
        "# Move rook vertically\n",
        "rook_move = chess.Move.from_uci(\"d4d8\")\n",
        "rook_board.push(rook_move)\n",
        "print(\"Rook moves from d4 to d8 (vertical movement):\")\n",
        "rook_board"
      ]
    },
    {
      "cell_type": "markdown",
      "metadata": {},
      "source": [
        "## Knight Movement\n",
        "\n",
        "Knights have a unique L-shaped movement pattern:\n",
        "- Move in an \"L\" shape: 2 squares in one direction, then 1 square perpendicular\n",
        "- Can jump over other pieces\n",
        "- Always lands on a square of opposite color"
      ]
    },
    {
      "cell_type": "code",
      "execution_count": null,
      "metadata": {},
      "outputs": [],
      "source": [
        "# Demonstrate knight movement\n",
        "knight_board = chess.Board(\"8/8/8/8/3N4/8/8/8 w - - 0 1\")\n",
        "print(\"Knight on d4 - moves in L-shaped patterns:\")\n",
        "print(knight_board)\n",
        "print()\n",
        "\n",
        "# Show all possible knight moves\n",
        "knight_square = chess.D4\n",
        "legal_moves = [move for move in knight_board.legal_moves if move.from_square == knight_square]\n",
        "print(f\"Legal moves for knight on d4: {[move.uci() for move in legal_moves]}\")\n",
        "print()\n",
        "\n",
        "# Move knight in L-shape\n",
        "knight_move = chess.Move.from_uci(\"d4f5\")\n",
        "knight_board.push(knight_move)\n",
        "print(\"Knight moves from d4 to f5 (L-shaped move):\")\n",
        "knight_board"
      ]
    },
    {
      "cell_type": "code",
      "execution_count": null,
      "metadata": {},
      "outputs": [],
      "source": [
        "# Demonstrate knight jumping over pieces\n",
        "jump_board = chess.Board(\"8/8/8/2ppp3/2pNp3/2ppp3/8/8 w - - 0 1\")\n",
        "print(\"Knight surrounded by pawns - can still jump over them:\")\n",
        "print(jump_board)\n",
        "print()\n",
        "\n",
        "# Knight can still move despite being surrounded\n",
        "knight_square = chess.D4\n",
        "legal_moves = [move for move in jump_board.legal_moves if move.from_square == knight_square]\n",
        "print(f\"Knight can still move to: {[move.uci() for move in legal_moves]}\")\n",
        "print()\n",
        "\n",
        "# Jump over pieces\n",
        "jump_move = chess.Move.from_uci(\"d4f3\")\n",
        "jump_board.push(jump_move)\n",
        "print(\"Knight jumps from d4 to f3, over the surrounding pawns:\")\n",
        "jump_board"
      ]
    },
    {
      "cell_type": "markdown",
      "metadata": {},
      "source": [
        "## Bishop Movement\n",
        "\n",
        "Bishops move diagonally:\n",
        "- Any number of squares diagonally\n",
        "- Cannot jump over other pieces\n",
        "- Always stay on squares of the same color"
      ]
    },
    {
      "cell_type": "code",
      "execution_count": null,
      "metadata": {},
      "outputs": [],
      "source": [
        "# Demonstrate bishop movement\n",
        "bishop_board = chess.Board(\"8/8/8/8/3B4/8/8/8 w - - 0 1\")\n",
        "print(\"Bishop on d4 - moves diagonally:\")\n",
        "print(bishop_board)\n",
        "print()\n",
        "\n",
        "# Show possible bishop moves\n",
        "bishop_square = chess.D4\n",
        "legal_moves = [move for move in bishop_board.legal_moves if move.from_square == bishop_square]\n",
        "print(f\"Legal moves for bishop on d4: {[move.uci() for move in legal_moves]}\")\n",
        "print()\n",
        "\n",
        "# Move bishop diagonally\n",
        "bishop_move = chess.Move.from_uci(\"d4h8\")\n",
        "bishop_board.push(bishop_move)\n",
        "print(\"Bishop moves from d4 to h8 (diagonal movement):\")\n",
        "bishop_board"
      ]
    },
    {
      "cell_type": "markdown",
      "metadata": {},
      "source": [
        "## Queen Movement\n",
        "\n",
        "The queen is the most powerful piece:\n",
        "- Combines rook and bishop movement\n",
        "- Can move any number of squares horizontally, vertically, or diagonally\n",
        "- Cannot jump over other pieces"
      ]
    },
    {
      "cell_type": "code",
      "execution_count": null,
      "metadata": {},
      "outputs": [],
      "source": [
        "# Demonstrate queen movement\n",
        "queen_board = chess.Board(\"8/8/8/8/3Q4/8/8/8 w - - 0 1\")\n",
        "print(\"Queen on d4 - most powerful piece, combines rook and bishop moves:\")\n",
        "print(queen_board)\n",
        "print()\n",
        "\n",
        "# Show possible queen moves\n",
        "queen_square = chess.D4\n",
        "legal_moves = [move for move in queen_board.legal_moves if move.from_square == queen_square]\n",
        "print(f\"Legal moves for queen on d4: {[move.uci() for move in legal_moves]}\")\n",
        "print(f\"Total possible moves: {len(legal_moves)}\")\n",
        "print()\n",
        "\n",
        "# Move queen diagonally\n",
        "queen_move = chess.Move.from_uci(\"d4a7\")\n",
        "queen_board.push(queen_move)\n",
        "print(\"Queen moves from d4 to a7 (diagonal movement):\")\n",
        "queen_board"
      ]
    },
    {
      "cell_type": "markdown",
      "metadata": {},
      "source": [
        "## King Movement\n",
        "\n",
        "The king is the most important piece:\n",
        "- Moves one square in any direction (horizontal, vertical, or diagonal)\n",
        "- Cannot move into check (attacked by enemy pieces)\n",
        "- Can castle under certain conditions"
      ]
    },
    {
      "cell_type": "code",
      "execution_count": null,
      "metadata": {},
      "outputs": [],
      "source": [
        "# Demonstrate king movement\n",
        "king_board = chess.Board(\"8/8/8/8/3K4/8/8/8 w - - 0 1\")\n",
        "print(\"King on d4 - moves one square in any direction:\")\n",
        "print(king_board)\n",
        "print()\n",
        "\n",
        "# Show possible king moves\n",
        "king_square = chess.D4\n",
        "legal_moves = [move for move in king_board.legal_moves if move.from_square == king_square]\n",
        "print(f\"Legal moves for king on d4: {[move.uci() for move in legal_moves]}\")\n",
        "print()\n",
        "\n",
        "# Move king one square\n",
        "king_move = chess.Move.from_uci(\"d4e5\")\n",
        "king_board.push(king_move)\n",
        "print(\"King moves from d4 to e5 (one square diagonally):\")\n",
        "king_board"
      ]
    },
    {
      "cell_type": "code",
      "execution_count": null,
      "metadata": {},
      "outputs": [],
      "source": [
        "# Demonstrate castling\n",
        "castle_board = chess.Board(\"r3k2r/8/8/8/8/8/8/R3K2R w KQkq - 0 1\")\n",
        "print(\"Position where both sides can castle:\")\n",
        "print(castle_board)\n",
        "print()\n",
        "\n",
        "# Show castling moves\n",
        "castling_moves = [move for move in castle_board.legal_moves if castle_board.is_castling(move)]\n",
        "print(f\"Available castling moves: {[move.uci() for move in castling_moves]}\")\n",
        "print()\n",
        "\n",
        "# Perform kingside castling\n",
        "castle_move = chess.Move.from_uci(\"e1g1\")\n",
        "castle_board.push(castle_move)\n",
        "print(\"White castles kingside (O-O):\")\n",
        "castle_board"
      ]
    },
    {
      "cell_type": "markdown",
      "metadata": {},
      "source": [
        "## Special Moves\n",
        "\n",
        "Chess has several special moves beyond basic piece movement:"
      ]
    },
    {
      "cell_type": "code",
      "execution_count": null,
      "metadata": {},
      "outputs": [],
      "source": [
        "# Demonstrate en passant\n",
        "en_passant_board = chess.Board(\"rnbqkbnr/ppp1p1pp/8/3pPp2/8/8/PPPP1PPP/RNBQKBNR w KQkq f6 0 3\")\n",
        "print(\"Position where en passant is possible:\")\n",
        "print(en_passant_board)\n",
        "print()\n",
        "\n",
        "# Check for en passant moves\n",
        "en_passant_moves = [move for move in en_passant_board.legal_moves if en_passant_board.is_en_passant(move)]\n",
        "print(f\"En passant moves available: {[move.uci() for move in en_passant_moves]}\")\n",
        "print()\n",
        "\n",
        "# Perform en passant\n",
        "if en_passant_moves:\n",
        "    en_passant_board.push(en_passant_moves[0])\n",
        "    print(\"After en passant capture:\")\n",
        "    print(en_passant_board)"
      ]
    },
    {
      "cell_type": "code",
      "execution_count": null,
      "metadata": {},
      "outputs": [],
      "source": [
        "# Demonstrate pawn promotion\n",
        "promotion_board = chess.Board(\"8/P7/8/8/8/8/8/8 w - - 0 1\")\n",
        "print(\"White pawn ready for promotion:\")\n",
        "print(promotion_board)\n",
        "print()\n",
        "\n",
        "# Promote pawn to queen\n",
        "promotion_move = chess.Move.from_uci(\"a7a8q\")\n",
        "promotion_board.push(promotion_move)\n",
        "print(\"Pawn promotes to queen:\")\n",
        "promotion_board"
      ]
    },
    {
      "cell_type": "markdown",
      "metadata": {},
      "source": [
        "## Summary\n",
        "\n",
        "This notebook demonstrated the movement patterns of all chess pieces:\n",
        "\n",
        "1. **Pawn**: Forward one square (two from start), captures diagonally\n",
        "2. **Rook**: Horizontal and vertical lines\n",
        "3. **Knight**: L-shaped moves, can jump over pieces\n",
        "4. **Bishop**: Diagonal lines\n",
        "5. **Queen**: Combines rook and bishop movement\n",
        "6. **King**: One square in any direction\n",
        "\n",
        "Special moves include castling, en passant, and pawn promotion. Understanding these movement patterns is fundamental to playing chess effectively!"
      ]
    },
    {
      "cell_type": "code",
      "execution_count": null,
      "metadata": {},
      "outputs": [],
      "source": [
        "# Final demonstration: A complete game position\n",
        "game_board = chess.Board()\n",
        "\n",
        "# Play a few moves to show a realistic position\n",
        "moves = [\"e2e4\", \"e7e5\", \"g1f3\", \"b8c6\", \"f1b5\", \"a7a6\"]\n",
        "for move in moves:\n",
        "    game_board.push(chess.Move.from_uci(move))\n",
        "\n",
        "print(\"A typical chess position after a few moves:\")\n",
        "print(game_board)\n",
        "print()\n",
        "print(f\"Legal moves available: {len(list(game_board.legal_moves))}\")\n",
        "print(f\"Turn: {'White' if game_board.turn else 'Black'}\")"
      ]
    }
  ],
  "metadata": {
    "title": "Learn to Play Chess!",
    "kernelspec": {
      "display_name": ".venv",
      "language": "python",
      "name": "python3"
    },
    "language_info": {
      "codemirror_mode": {
        "name": "ipython",
        "version": 3
      },
      "file_extension": ".py",
      "mimetype": "text/x-python",
      "name": "python",
      "nbconvert_exporter": "python",
      "pygments_lexer": "ipython3",
      "version": "3.13.1"
    }
  },
  "nbformat": 4,
  "nbformat_minor": 4
}
