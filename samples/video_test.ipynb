{
 "cells": [
  {
   "cell_type": "markdown",
   "id": "test-intro",
   "metadata": {},
   "source": [
    "# Video Cell Test\n",
    "\n",
    "This notebook tests the VideoCell component with different video sources."
   ]
  },
  {
   "cell_type": "raw",
   "id": "video-test-1",
   "metadata": {
    "tags": [
     "video"
    ]
   },
   "source": [
    "{ \"url\": \"https://commondatastorage.googleapis.com/gtv-videos-bucket/sample/BigBuckBunny.mp4\", \"controls\": true }"
   ]
  },
  {
   "cell_type": "markdown",
   "id": "test-youtube",
   "metadata": {},
   "source": [
    "## YouTube Video Test\n",
    "\n",
    "This should work in most environments:"
   ]
  },
  {
   "cell_type": "raw",
   "id": "video-test-2",
   "metadata": {
    "tags": [
     "video"
    ]
   },
   "source": [
    "{ \"url\": \"https://www.youtube.com/watch?v=dQw4w9WgXcQ\", \"controls\": true }"
   ]
  },
  {
   "cell_type": "markdown",
   "id": "test-vimeo",
   "metadata": {},
   "source": [
    "## Vimeo Video Test\n",
    "\n",
    "This will likely show a fallback on localhost:"
   ]
  },
  {
   "cell_type": "raw",
   "id": "video-test-3",
   "metadata": {
    "tags": [
     "video"
    ],
    "vscode": {
     "languageId": "raw"
    }
   },
   "source": [
    "{ \"url\": \"https://vimeo.com/1063617998\", \"controls\": true }"
   ]
  }
 ],
 "metadata": {
  "kernelspec": {
   "display_name": ".venv",
   "language": "python",
   "name": "python3"
  },
  "language_info": {
   "codemirror_mode": {
    "name": "ipython",
    "version": 3
   },
   "file_extension": ".py",
   "mimetype": "text/x-python",
   "name": "python",
   "nbconvert_exporter": "python",
   "pygments_lexer": "ipython3",
   "version": "3.13.1"
  }
 },
 "nbformat": 4,
 "nbformat_minor": 5
}
