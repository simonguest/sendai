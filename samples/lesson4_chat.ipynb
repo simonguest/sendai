{
  "cells": [
    {
      "cell_type": "markdown",
      "id": "intro",
      "metadata": {},
      "source": [
        "## Recipe Bot\n",
        "\n",
        "This chatbot has been designed to help someone learn how to cook recipes from Hyderabad. Try to make it work for a different place (like where you're from)!"
      ]
    },
    {
      "cell_type": "markdown",
      "id": "description",
      "metadata": {},
      "source": [
        "## Do This\n",
        "\n",
        "Test the chatbot! Have a conversation with at least 4 messages!"
      ]
    },
    {
      "cell_type": "raw",
      "id": "chat-example-1",
      "metadata": {
        "tags": [
          "chat"
        ],
        "vscode": {
          "languageId": "raw"
        }
      },
      "source": [
        "{\n",
        "  \"url\": \"http://192.168.88.36:1234/v1/chat/completions\",\n",
        "  \"model\": \"qwen/qwen3-30b-a3b\",\n",
        "  \"messages\": [\n",
        "    { \"role\": \"system\", \"content\": \"Your goal is to give advice and assistance to someone wanting to learn how to cook recipes from Hyderabad. Keep your responses concise.\" }\n",
        "   ],\n",
        "  \"temperature\": 0.7,\n",
        "  \"max_tokens\": -1,\n",
        "  \"stream\": false\n",
        "}"
      ]
    }
  ],
  "metadata": {
    "kernelspec": {
      "display_name": "Python 3",
      "language": "python",
      "name": "python3"
    },
    "language_info": {
      "name": "python",
      "version": "3.11.0"
    },
    "title": "Lesson 4: System Prompting"
  },
  "nbformat": 4,
  "nbformat_minor": 2
}
