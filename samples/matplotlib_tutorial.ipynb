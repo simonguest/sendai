{
 "cells": [
  {
   "cell_type": "markdown",
   "id": "intro-cell",
   "metadata": {},
   "source": [
    "# Matplotlib Tutorial for Students\n",
    "\n",
    "Welcome to this interactive matplotlib tutorial! In this notebook, you'll learn how to create different types of graphs and visualizations using Python.\n",
    "\n",
    "**What is matplotlib?**\n",
    "Matplotlib is a powerful library that helps us create charts, graphs, and other visualizations to better understand data.\n",
    "\n",
    "Let's start by importing the libraries we need:"
   ]
  },
  {
   "cell_type": "code",
   "execution_count": null,
   "id": "imports-cell",
   "metadata": {},
   "outputs": [],
   "source": [
    "import matplotlib.pyplot as plt\n",
    "import numpy as np\n",
    "\n",
    "print(\"Libraries imported successfully!\")\n",
    "print(\"Now we're ready to create some amazing visualizations!\")"
   ]
  },
  {
   "cell_type": "markdown",
   "id": "line-plot-intro",
   "metadata": {},
   "source": [
    "## 1. Line Plot - Tracking Temperature Over a Week\n",
    "\n",
    "Let's create a line plot to show how temperature changes throughout a week. This is useful for showing trends over time!"
   ]
  },
  {
   "cell_type": "code",
   "execution_count": null,
   "id": "line-plot-cell",
   "metadata": {},
   "outputs": [],
   "source": [
    "# Days of the week\n",
    "days = ['Monday', 'Tuesday', 'Wednesday', 'Thursday', 'Friday', 'Saturday', 'Sunday']\n",
    "# Temperature in Fahrenheit\n",
    "temperatures = [72, 75, 78, 74, 71, 69, 73]\n",
    "\n",
    "# Create the line plot\n",
    "plt.figure(figsize=(10, 6))\n",
    "plt.plot(days, temperatures, marker='o', linewidth=2, markersize=8, color='blue')\n",
    "\n",
    "# Add labels and title\n",
    "plt.title('Weekly Temperature Forecast', fontsize=16, fontweight='bold')\n",
    "plt.xlabel('Day of the Week', fontsize=12)\n",
    "plt.ylabel('Temperature (°F)', fontsize=12)\n",
    "\n",
    "# Rotate x-axis labels for better readability\n",
    "plt.xticks(rotation=45)\n",
    "\n",
    "# Add a grid to make it easier to read values\n",
    "plt.grid(True, alpha=0.3)\n",
    "\n",
    "# Show the plot\n",
    "plt.tight_layout()\n",
    "plt.show()\n",
    "\n",
    "print(f\"The highest temperature this week is {max(temperatures)}°F\")\n",
    "print(f\"The lowest temperature this week is {min(temperatures)}°F\")"
   ]
  },
  {
   "cell_type": "markdown",
   "id": "bar-chart-intro",
   "metadata": {},
   "source": [
    "## 2. Bar Chart - Favorite Ice Cream Flavors Survey\n",
    "\n",
    "Bar charts are perfect for comparing different categories. Let's visualize the results of a class survey about favorite ice cream flavors!"
   ]
  },
  {
   "cell_type": "code",
   "execution_count": null,
   "id": "bar-chart-cell",
   "metadata": {},
   "outputs": [],
   "source": [
    "# Survey data\n",
    "flavors = ['Vanilla', 'Chocolate', 'Strawberry', 'Mint Chip', 'Cookie Dough']\n",
    "votes = [12, 18, 8, 15, 22]\n",
    "\n",
    "# Create a colorful bar chart\n",
    "colors = ['#FFE4B5', '#8B4513', '#FFB6C1', '#98FB98', '#DEB887']\n",
    "\n",
    "plt.figure(figsize=(10, 6))\n",
    "bars = plt.bar(flavors, votes, color=colors, edgecolor='black', linewidth=1.2)\n",
    "\n",
    "# Add labels and title\n",
    "plt.title('Class Survey: Favorite Ice Cream Flavors', fontsize=16, fontweight='bold')\n",
    "plt.xlabel('Ice Cream Flavors', fontsize=12)\n",
    "plt.ylabel('Number of Votes', fontsize=12)\n",
    "\n",
    "# Add value labels on top of each bar\n",
    "for bar, vote in zip(bars, votes):\n",
    "    plt.text(bar.get_x() + bar.get_width()/2, bar.get_height() + 0.5, \n",
    "             str(vote), ha='center', va='bottom', fontweight='bold')\n",
    "\n",
    "# Rotate x-axis labels\n",
    "plt.xticks(rotation=45)\n",
    "\n",
    "plt.tight_layout()\n",
    "plt.show()\n",
    "\n",
    "# Find the winner\n",
    "winner_index = votes.index(max(votes))\n",
    "print(f\"🏆 The most popular flavor is {flavors[winner_index]} with {max(votes)} votes!\")\n",
    "print(f\"📊 Total students surveyed: {sum(votes)}\")"
   ]
  },
  {
   "cell_type": "markdown",
   "id": "scatter-plot-intro",
   "metadata": {},
   "source": [
    "## 3. Scatter Plot - Height vs. Shoe Size\n",
    "\n",
    "Scatter plots help us see relationships between two different measurements. Let's explore if there's a connection between height and shoe size!"
   ]
  },
  {
   "cell_type": "code",
   "execution_count": null,
   "id": "scatter-plot-cell",
   "metadata": {},
   "outputs": [],
   "source": [
    "# Sample data for height (inches) and shoe size\n",
    "np.random.seed(42)  # For consistent results\n",
    "heights = np.random.normal(65, 4, 30)  # Heights around 65 inches\n",
    "shoe_sizes = heights * 0.3 - 12 + np.random.normal(0, 1, 30)  # Correlated with some noise\n",
    "\n",
    "# Create scatter plot\n",
    "plt.figure(figsize=(10, 6))\n",
    "plt.scatter(heights, shoe_sizes, c='red', alpha=0.7, s=60, edgecolors='black')\n",
    "\n",
    "# Add labels and title\n",
    "plt.title('Relationship Between Height and Shoe Size', fontsize=16, fontweight='bold')\n",
    "plt.xlabel('Height (inches)', fontsize=12)\n",
    "plt.ylabel('Shoe Size', fontsize=12)\n",
    "\n",
    "# Add a trend line\n",
    "z = np.polyfit(heights, shoe_sizes, 1)\n",
    "p = np.poly1d(z)\n",
    "plt.plot(heights, p(heights), \"--\", color='blue', linewidth=2, label='Trend Line')\n",
    "\n",
    "# Add grid and legend\n",
    "plt.grid(True, alpha=0.3)\n",
    "plt.legend()\n",
    "\n",
    "plt.tight_layout()\n",
    "plt.show()\n",
    "\n",
    "print(\"🔍 What do you notice?\")\n",
    "print(\"Generally, taller people tend to have larger shoe sizes!\")\n",
    "print(\"This is called a positive correlation.\")"
   ]
  },
  {
   "cell_type": "markdown",
   "id": "pie-chart-intro",
   "metadata": {},
   "source": [
    "## 4. Pie Chart - How Students Spend Their Free Time\n",
    "\n",
    "Pie charts are great for showing how a whole is divided into parts. Let's see how students spend their free time!"
   ]
  },
  {
   "cell_type": "code",
   "execution_count": null,
   "id": "pie-chart-cell",
   "metadata": {},
   "outputs": [],
   "source": [
    "# Free time activities data\n",
    "activities = ['Video Games', 'Sports', 'Reading', 'Social Media', 'Music', 'Other']\n",
    "time_spent = [25, 20, 15, 18, 12, 10]  # Percentages\n",
    "\n",
    "# Colors for each slice\n",
    "colors = ['#FF6B6B', '#4ECDC4', '#45B7D1', '#96CEB4', '#FFEAA7', '#DDA0DD']\n",
    "\n",
    "# Create pie chart\n",
    "plt.figure(figsize=(10, 8))\n",
    "wedges, texts, autotexts = plt.pie(time_spent, labels=activities, colors=colors, \n",
    "                                   autopct='%1.1f%%', startangle=90, \n",
    "                                   explode=(0.1, 0, 0, 0, 0, 0))  # Explode the first slice\n",
    "\n",
    "# Customize the text\n",
    "for autotext in autotexts:\n",
    "    autotext.set_color('white')\n",
    "    autotext.set_fontweight('bold')\n",
    "    autotext.set_fontsize(10)\n",
    "\n",
    "# Add title\n",
    "plt.title('How Students Spend Their Free Time', fontsize=16, fontweight='bold', pad=20)\n",
    "\n",
    "# Equal aspect ratio ensures that pie is drawn as a circle\n",
    "plt.axis('equal')\n",
    "\n",
    "plt.tight_layout()\n",
    "plt.show()\n",
    "\n",
    "print(\"📊 Fun Facts:\")\n",
    "print(f\"• Most popular activity: {activities[time_spent.index(max(time_spent))]} ({max(time_spent)}%)\")\n",
    "print(f\"• Least popular activity: {activities[time_spent.index(min(time_spent))]} ({min(time_spent)}%)\")\n",
    "print(f\"• Total activities tracked: {len(activities)}\")"
   ]
  },
  {
   "cell_type": "markdown",
   "id": "conclusion-cell",
   "metadata": {},
   "source": [
    "## 🎉 Congratulations!\n",
    "\n",
    "You've just learned how to create four different types of visualizations:\n",
    "\n",
    "1. **Line Plot** - Perfect for showing trends over time\n",
    "2. **Bar Chart** - Great for comparing different categories\n",
    "3. **Scatter Plot** - Useful for finding relationships between two variables\n",
    "4. **Pie Chart** - Excellent for showing parts of a whole\n",
    "\n",
    "### 🚀 Try This Next:\n",
    "- Change the colors in any of the charts above\n",
    "- Modify the data to reflect your own surveys or measurements\n",
    "- Try combining multiple plots in one figure\n",
    "- Experiment with different chart styles and themes\n",
    "\n",
    "### 💡 Remember:\n",
    "Good visualizations tell a story with data. Always include:\n",
    "- Clear titles\n",
    "- Labeled axes\n",
    "- Appropriate colors\n",
    "- Easy-to-read text\n",
    "\n",
    "Happy plotting! 📈"
   ]
  }
 ],
 "metadata": {
  "title": "Learn Matplotlib!",
  "kernelspec": {
   "display_name": "Python 3",
   "language": "python",
   "name": "python3"
  },
  "language_info": {
   "codemirror_mode": {
    "name": "ipython",
    "version": 3
   },
   "file_extension": ".py",
   "mimetype": "text/x-python",
   "name": "python",
   "nbconvert_exporter": "python",
   "pygments_lexer": "ipython3",
   "version": "3.8.0"
  }
 },
 "nbformat": 4,
 "nbformat_minor": 5
}
