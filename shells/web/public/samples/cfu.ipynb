{
  "cells": [
    {
      "cell_type": "markdown",
      "metadata": {},
      "source": [
        "# Hello, Python!"
      ]
    },
    {
      "cell_type": "markdown",
      "metadata": {
        "editable": true,
        "slideshow": {
          "slide_type": ""
        },
        "tags": []
      },
      "source": [
        "Let's learn Python together! First, let's print \"Hello, World!\"\n",
        "\n",
        "Lorem ipsum dolor sit amet, consectetur adipiscing elit. Nulla eu gravida purus, et vulputate orci. Etiam porttitor quam lectus, id posuere sem lacinia at. Vestibulum non imperdiet turpis. Nulla facilisi. Interdum et malesuada fames ac ante ipsum primis in faucibus. Integer rhoncus varius mi, sit amet mattis turpis laoreet vel. Phasellus tristique semper est. Cras tortor mauris, euismod semper vestibulum quis, sagittis sit amet dui. Ut porttitor luctus neque, sed laoreet orci convallis et. Pellentesque habitant morbi tristique senectus et netus et malesuada fames ac turpis egestas. Proin eu condimentum justo. Aenean eleifend eget urna quis imperdiet."
      ]
    },
    {
      "cell_type": "code",
      "execution_count": 2,
      "metadata": {
        "editable": true,
        "slideshow": {
          "slide_type": ""
        },
        "tags": []
      },
      "outputs": [
        {
          "name": "stdout",
          "output_type": "stream",
          "text": [
            "Hello, World!\n"
          ]
        }
      ],
      "source": [
        "print(\"Hello, World!\")"
      ]
    },
    {
      "cell_type": "raw",
      "metadata": {
        "content_type": "cfu",
        "editable": true,
        "slideshow": {
          "slide_type": ""
        },
        "tags": []
      },
      "source": [
        "{\n",
        "    \"title\": \"Let's check your work!\",\n",
        "    \"question_type\": \"multiple_choice\",\n",
        "    \"question\": \"What is the output of 2 + 2?\",\n",
        "    \"options\": [\"3\", \"4\", \"5\", \"6\"],\n",
        "    \"correct_answer\": 1,\n",
        "    \"correct_answer_response\": \"That's right! 2 + 2 = 4\",\n",
        "    \"incorrect_answer_response\": \"Not quite right. Try again!\",\n",
        "    \"answer_before_continuing\": true\n",
        "  }"
      ]
    },
    {
      "cell_type": "markdown",
      "metadata": {},
      "source": [
        "Now, let's print \"Hello, World! 2\"\n",
        "\n",
        "Lorem ipsum dolor sit amet, consectetur adipiscing elit. Nulla eu gravida purus, et vulputate orci. Etiam porttitor quam lectus, id posuere sem lacinia at. Vestibulum non imperdiet turpis. Nulla facilisi. Interdum et malesuada fames ac ante ipsum primis in faucibus. Integer rhoncus varius mi, sit amet mattis turpis laoreet vel. Phasellus tristique semper est. Cras tortor mauris, euismod semper vestibulum quis, sagittis sit amet dui. Ut porttitor luctus neque, sed laoreet orci convallis et. Pellentesque habitant morbi tristique senectus et netus et malesuada fames ac turpis egestas. Proin eu condimentum justo. Aenean eleifend eget urna quis imperdiet."
      ]
    },
    {
      "cell_type": "code",
      "execution_count": null,
      "metadata": {
        "editable": true,
        "slideshow": {
          "slide_type": ""
        },
        "tags": []
      },
      "outputs": [],
      "source": [
        "print (\"Hello, World! 2\")"
      ]
    }
  ],
  "metadata": {
    "title": "Python Basics: Lesson 1",
    "description": "Lorem ipsum dolor sit amet, consectetur adipiscing elit. Nulla eu gravida purus, et vulputate orci. Etiam porttitor quam lectus, id posuere sem lacinia at. Vestibulum non imperdiet turpis. Nulla facilisi. Interdum et malesuada fames ac ante ipsum primis in faucibus. Integer rhoncus varius mi, sit amet mattis turpis laoreet vel. Phasellus tristique semper est. Cras tortor mauris, euismod semper vestibulum quis, sagittis sit amet dui. Ut porttitor luctus neque, sed laoreet orci convallis et. Pellentesque habitant morbi tristique senectus et netus et malesuada fames ac turpis egestas. Proin eu condimentum justo. Aenean eleifend eget urna quis imperdiet.",
    "kernelspec": {
      "display_name": ".venv",
      "language": "python",
      "name": "python3"
    },
    "language_info": {
      "codemirror_mode": {
        "name": "ipython",
        "version": 3
      },
      "file_extension": ".py",
      "mimetype": "text/x-python",
      "name": "python",
      "nbconvert_exporter": "python",
      "pygments_lexer": "ipython3",
      "version": "3.13.0"
    }
  },
  "nbformat": 4,
  "nbformat_minor": 4
}
