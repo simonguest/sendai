{
  "cells": [
    {
      "cell_type": "markdown",
      "id": "intro",
      "metadata": {},
      "source": [
        "# Chat Cell Test\n",
        "\n",
        "This notebook demonstrates the ChatCell component for interacting with OpenAI compliant endpoints."
      ]
    },
    {
      "cell_type": "markdown",
      "id": "description",
      "metadata": {},
      "source": [
        "## Basic Chat Example\n",
        "\n",
        "This chat cell is configured to connect to a local LM Studio server with a system message that makes the assistant respond in rhymes:"
      ]
    },
    {
      "cell_type": "raw",
      "id": "chat-example-1",
      "metadata": {
        "tags": [
          "chat"
        ],
        "vscode": {
          "languageId": "raw"
        }
      },
      "source": [
        "{\n",
        "  \"url\": \"http://192.168.88.36:1234/v1/chat/completions\",\n",
        "  \"model\": \"qwen/qwen3-30b-a3b\",\n",
        "  \"messages\": [\n",
        "    { \"role\": \"system\", \"content\": \"Always answer in rhymes.\" },\n",
        "    { \"role\": \"user\", \"content\": \"Introduce yourself.\" },\n",
        "    { \"role\": \"assistant\", \"content\": \"Hello there, I'm here to chat,\\nA helpful AI, imagine that!\\nWith rhymes I speak, it's quite a feat,\\nTo make our conversation sweet!\" }\n",
        "  ],\n",
        "  \"temperature\": 0.7,\n",
        "  \"max_tokens\": -1,\n",
        "  \"stream\": false\n",
        "}"
      ]
    },
    {
      "cell_type": "markdown",
      "id": "description-2",
      "metadata": {},
      "source": [
        "## Math Tutor Example\n",
        "\n",
        "This chat cell is configured as a math tutor for K-12 students:"
      ]
    },
    {
      "cell_type": "raw",
      "id": "chat-example-2",
      "metadata": {
        "tags": [
          "chat"
        ],
        "vscode": {
          "languageId": "raw"
        }
      },
      "source": [
        "{\n",
        "  \"url\": \"http://192.168.88.36:1234/v1/chat/completions\",\n",
        "  \"model\": \"qwen/qwen3-30b-a3b\",\n",
        "  \"messages\": [\n",
        "    { \"role\": \"system\", \"content\": \"You are a friendly math tutor for K-12 students. Explain concepts clearly and encourage students to ask questions. Use simple language and provide step-by-step explanations.\" },\n",
        "    { \"role\": \"user\", \"content\": \"Can you help me understand fractions?\" },\n",
        "    { \"role\": \"assistant\", \"content\": \"Of course! I'd love to help you with fractions. \\n\\nThink of a fraction like a pizza! 🍕\\n\\nIf you have a whole pizza and cut it into 4 equal slices, each slice is 1/4 (one-fourth) of the pizza.\\n\\nThe number on top (1) tells you how many slices you have.\\nThe number on bottom (4) tells you how many slices the whole pizza was cut into.\\n\\nSo 2/4 means you have 2 slices out of 4 total slices.\\n\\nWhat would you like to know more about with fractions?\" }\n",
        "  ],\n",
        "  \"temperature\": 0.3,\n",
        "  \"max_tokens\": 200,\n",
        "  \"stream\": false\n",
        "}"
      ]
    },
    {
      "cell_type": "markdown",
      "id": "description-3",
      "metadata": {},
      "source": [
        "## Empty Chat Example\n",
        "\n",
        "This shows an empty chat ready for a new conversation:"
      ]
    },
    {
      "cell_type": "raw",
      "id": "chat-example-3",
      "metadata": {
        "tags": [
          "chat"
        ],
        "vscode": {
          "languageId": "raw"
        }
      },
      "source": [
        "{\n",
        "  \"url\": \"http://192.168.88.36:1234/v1/chat/completions\",\n",
        "  \"model\": \"qwen/qwen3-30b-a3b\",\n",
        "  \"messages\": [],\n",
        "  \"temperature\": 0.7,\n",
        "  \"max_tokens\": -1,\n",
        "  \"stream\": false\n",
        "}"
      ]
    }
  ],
  "metadata": {
    "kernelspec": {
      "display_name": "Python 3",
      "language": "python",
      "name": "python3"
    },
    "language_info": {
      "name": "python",
      "version": "3.11.0"
    },
    "title": "AI Chat Test"
  },
  "nbformat": 4,
  "nbformat_minor": 2
}
