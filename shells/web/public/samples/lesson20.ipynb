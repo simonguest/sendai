{
 "cells": [
  {
   "cell_type": "markdown",
   "id": "c6d190a8",
   "metadata": {
    "i18n" : {
      "ja-JP" : ["# レッスン20: 双方向およびネストされた選択"],
      "hi-IN" : ["# पाठ 20: दो-तरफा और नेस्टेड चयन"]
    }
   },
   "source": [
    "# Lesson 20: Two-Way and Nested Selection"
   ]
  },
  {
   "cell_type": "markdown",
   "id": "4c2d9172",
   "metadata": {
    "i18n" : {
      "ja-JP" : ["## より多くのネストされたループ\n", "<br>\n", "\n", "1. コードを読んでください\n", "2. ユーザーが4を入力した場合、何が起こると思いますか？\n", "3. 脱出ゲームでなぜ条件文をネストする必要があるかもしれませんか？\n", "\n", "<br>\n", "[学生の回答入力]"],
      "hi-IN" : ["## अधिक नेस्टेड लूप्स\n", "<br>\n", "\n", "1. कोड पढ़ें\n", "2. आपको क्या लगता है कि क्या होगा अगर उपयोगकर्ता 4 इनपुट करता है?\n", "3. आपको एक एस्केप रूम गेम में कंडीशनल्स को नेस्ट करने की आवश्यकता क्यों हो सकती है?\n", "\n", "<br>\n", "[छात्र प्रतिक्रिया इनपुट]"]
    }
   },
   "source": [
    "## More Nested Loops\n",
    "<br>\n",
    "\n",
    "1. Read the code\n",
    "2. What do you think will happen if the user inputs 4?\n",
    "3. Why might you need to nest conditionals in an escape room game?\n",
    "\n",
    "<br>\n",
    "[Student Response Input]"
   ]
  },
  {
   "cell_type": "code",
   "execution_count": null,
   "id": "108175cc",
   "metadata": {},
   "outputs": [],
   "source": [
    "print(\"A sign reads: 'Solve this riddle to enter the city of Digitopolis.'\")\n",
    "number = int(input(\"What is half of two plus two? \"))\n",
    "\n",
    "if number == 3:\n",
    "    print(\"🔢 Correct! The gates of Digitopolis swing open.\")\n",
    "    if input(\"Do you wish to enter? (yes/no) \").lower() == \"yes\":\n",
    "        print(\"🏰 You step into a city of numbers and logic.\")\n",
    "    else:\n",
    "        print(\"🚪 You decide to stay outside and explore.\")\n",
    "else:\n",
    "    print(\"❌ Incorrect! Try again later.\")"
   ]
  }
 ],
 "metadata": {
  "kernelspec": {
   "display_name": ".venv",
   "language": "python",
   "name": "python3"
  },
  "language_info": {
   "codemirror_mode": {
    "name": "ipython",
    "version": 3
   },
   "file_extension": ".py",
   "mimetype": "text/x-python",
   "name": "python",
   "nbconvert_exporter": "python",
   "pygments_lexer": "ipython3",
   "version": "3.13.1"
  }
 },
 "nbformat": 4,
 "nbformat_minor": 5
}
