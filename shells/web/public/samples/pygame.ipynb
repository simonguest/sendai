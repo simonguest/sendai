{
 "cells": [
  {
   "cell_type": "code",
   "execution_count": null,
   "metadata": {
    "vscode": {
     "languageId": "plaintext"
    }
   },
   "outputs": [],
   "source": [
    "import pygame\n",
    "import sys\n",
    "\n",
    "# Initialize Pygame\n",
    "pygame.init()\n",
    "\n",
    "# Set up the display\n",
    "width, height = 800, 600\n",
    "screen = pygame.Surface((800, 600))\n",
    "\n",
    "# Define colors\n",
    "RED = (255, 0, 0)\n",
    "BLUE = (0, 0, 255)\n",
    "\n",
    "# Fill the background with red\n",
    "screen.fill(RED)\n",
    "\n",
    "# Draw a blue circle\n",
    "pygame.draw.circle(screen, BLUE, (width // 2, height // 2), 100)\n",
    "\n",
    "# Update the display\n",
    "show_surface(screen)"
   ]
  }
 ],
 "metadata": {
  "language_info": {
   "name": "python"
  }
 },
 "nbformat": 4,
 "nbformat_minor": 2
}
