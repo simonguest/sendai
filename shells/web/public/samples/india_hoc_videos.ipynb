{
 "cells": [
  {
   "cell_type": "markdown",
   "id": "c55f0634",
   "metadata": {},
   "source": [
    "## Welcome to Hour of Code India by Hadi Partovi"
   ]
  },
  {
   "cell_type": "raw",
   "id": "67f09331",
   "metadata": {
    "tags": [
     "video"
    ],
    "vscode": {
     "languageId": "raw"
    }
   },
   "source": [
    "{ \"url\": \"https://www.dropbox.com/scl/fi/noa4rgq31lbpys40k0a45/HoC-India-Promo_Hadi-Partovi_1280x720.mp4?rlkey=bq0czchfumrgrwl26f9v5zrud&st=j4qqtk9k&dl=1\", \"controls\": true }"
   ]
  },
  {
   "cell_type": "markdown",
   "id": "c313dc93",
   "metadata": {},
   "source": [
    "## Hour of Code India Campaign Recap"
   ]
  },
  {
   "cell_type": "raw",
   "id": "67f09332",
   "metadata": {
    "tags": [
     "video"
    ],
    "vscode": {
     "languageId": "raw"
    }
   },
   "source": [
    "{ \"url\": \"https://www.dropbox.com/scl/fi/d41h4do1o7y0bv7zqqhwh/HoC-India_Campaign-Recap.mp4?rlkey=mk33xb8my41lf63u2wsg7obu5&st=yhxde6fi&dl=1\", \"controls\": true }"
   ]
  }
 ],
 "metadata": {
  "language_info": {
   "name": "python"
  },
  "title": "India Hour of Code Videos"
 },
 "nbformat": 4,
 "nbformat_minor": 5
}
