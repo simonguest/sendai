{
  "cells": [
    {
      "cell_type": "code",
      "execution_count": null,
      "id": "test-parameters",
      "metadata": {},
      "outputs": [],
      "source": [
        "# Test all parameter types\n",
        "AGE = 25 #@param\n",
        "NAME = \"Alice\" #@param\n",
        "TEMPERATURE = 0.5 # @param {type:\"slider\", min:0, max:1, step:0.1}\n",
        "SIZE = \"medium\" #@param [\"small\", \"medium\", \"large\"]\n",
        "IS_ENABLED = True # @param {type:\"boolean\"}\n",
        "\n",
        "print(f\"Name: {NAME}\")\n",
        "print(f\"Age: {AGE}\")\n",
        "print(f\"Temperature: {TEMPERATURE}\")\n",
        "print(f\"Size: {SIZE}\")\n",
        "print(f\"Enabled: {IS_ENABLED}\")"
      ]
    }
  ],
  "metadata": {
    "kernelspec": {
      "display_name": "Python 3",
      "language": "python",
      "name": "python3"
    },
    "language_info": {
      "name": "python",
      "version": "3.8.0"
    }
  },
  "nbformat": 4,
  "nbformat_minor": 4
}
